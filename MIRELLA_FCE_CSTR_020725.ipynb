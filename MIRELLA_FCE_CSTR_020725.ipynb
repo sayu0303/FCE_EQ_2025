{
  "nbformat": 4,
  "nbformat_minor": 0,
  "metadata": {
    "colab": {
      "provenance": [],
      "authorship_tag": "ABX9TyMa3Oj0EOT4Veob9D8KJyBU",
      "include_colab_link": true
    },
    "kernelspec": {
      "name": "python3",
      "display_name": "Python 3"
    },
    "language_info": {
      "name": "python"
    }
  },
  "cells": [
    {
      "cell_type": "markdown",
      "metadata": {
        "id": "view-in-github",
        "colab_type": "text"
      },
      "source": [
        "<a href=\"https://colab.research.google.com/github/sayu0303/FCE_EQ_2025/blob/main/MIRELLA_FCE_CSTR_020725.ipynb\" target=\"_parent\"><img src=\"https://colab.research.google.com/assets/colab-badge.svg\" alt=\"Open In Colab\"/></a>"
      ]
    },
    {
      "cell_type": "code",
      "execution_count": 53,
      "metadata": {
        "collapsed": true,
        "id": "x0F0JwveGha8"
      },
      "outputs": [],
      "source": [
        "from dataclasses import dataclass\n",
        "\n",
        "\"\"\"\n",
        "O dataclass funciona como: não importa a ordem na declaração da variável\n",
        "estipulada ela uma vez, ela será constante até o fim da execução.\n",
        "\n",
        "LEMBRETE: A variável deve ser declarada para que essa função funcione.\n",
        "\"\"\"\n",
        "\n",
        "@dataclass\n",
        "class CSTR_parametro:\n",
        "  \"\"\"\n",
        "  Definição de um conjunto de parametros que\n",
        "  será utilizado durante a execução.\n",
        "\n",
        "  Falando qual é a variável e qual o tipo de variável ela é.\n",
        "  \"\"\"\n",
        "\n",
        "  F: float = 50.0 #L/min\n",
        "  V: float = 100.0 #L\n",
        "  k: float = 0.5 #1/min\n",
        "\n",
        "def CSTR_modelo(param, Ca_entrada):\n",
        "  Ca_saida = (param.F * Ca_entrada) / (param.F + param.V * param.k)\n",
        "\n",
        "\n",
        "  return Ca_saida\n",
        "\n",
        "def CSTR_series(lista_parametros, Ca_entrada):\n",
        "  lista_conc = [Ca_entrada]\n",
        "  lista_conv = [] # vem depois de passar pelo reator\n",
        "\n",
        "  for param in lista_parametros:\n",
        "    Ca_saida = CSTR_modelo(param, Ca_entrada)\n",
        "    conv_local = 1 - (Ca_saida / lista_conc[0])\n",
        "    lista_conc.append(Ca_saida)\n",
        "    lista_conv.append(conv_local)\n",
        "    Ca_entrada = Ca_saida\n",
        "\n",
        "\n",
        "  return lista_conc, lista_conv"
      ]
    },
    {
      "cell_type": "code",
      "source": [
        " #Parametros do reator\n",
        "\n",
        "lista_parametros = 3*[CSTR_parametro()]\n",
        "Ca0 = 1\n",
        "\n",
        "# Simulação\n",
        "\n",
        "lista_conc, lista_conv = CSTR_series(lista_parametros, Ca0)\n",
        "\n",
        "print(lista_conv)\n",
        "#CSTR_series(lista_parametros, Ca0)"
      ],
      "metadata": {
        "colab": {
          "base_uri": "https://localhost:8080/"
        },
        "id": "xaeHPM8bMt9t",
        "outputId": "8b590f84-c405-40ff-9e0c-efbe87de8da7"
      },
      "execution_count": 54,
      "outputs": [
        {
          "output_type": "stream",
          "name": "stdout",
          "text": [
            "[0.5, 0.75, 0.875]\n"
          ]
        }
      ]
    },
    {
      "cell_type": "code",
      "source": [
        "reator1 = CSTR_parametro()\n",
        "Ca0 = 1 # Ca dasaida do meu primeiro reator\n",
        "Ca1 = CSTR_modelo(reator1, Ca0)\n",
        "Ca2 = CSTR_modelo(reator1, Ca1)\n",
        "Ca3 = CSTR_modelo(reator1, Ca2)\n",
        "\n",
        "print(Ca0, Ca1, Ca2, Ca3)\n",
        "#CSTR_modelo(reator1, Ca0)"
      ],
      "metadata": {
        "colab": {
          "base_uri": "https://localhost:8080/"
        },
        "id": "XR5QVBGRJzxs",
        "outputId": "34130b24-df5a-450e-b753-b757ae0e3722"
      },
      "execution_count": 55,
      "outputs": [
        {
          "output_type": "stream",
          "name": "stdout",
          "text": [
            "1 0.5 0.25 0.125\n"
          ]
        }
      ]
    },
    {
      "cell_type": "code",
      "source": [
        "reator1 = CSTR_parametro()\n",
        "print(reator1)"
      ],
      "metadata": {
        "colab": {
          "base_uri": "https://localhost:8080/"
        },
        "id": "9JkuiUp7Hvhe",
        "outputId": "0b8a3c7e-c36f-4091-fffe-3ffad71b99d6"
      },
      "execution_count": 56,
      "outputs": [
        {
          "output_type": "stream",
          "name": "stdout",
          "text": [
            "CSTR_parametro(F=50.0, V=100.0, k=0.5)\n"
          ]
        }
      ]
    }
  ]
}